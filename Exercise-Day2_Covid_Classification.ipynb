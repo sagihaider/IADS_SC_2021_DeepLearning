{
  "nbformat": 4,
  "nbformat_minor": 0,
  "metadata": {
    "colab": {
      "name": "Exercise-Covid_Classification.ipynb",
      "provenance": [],
      "authorship_tag": "ABX9TyM9FRQhM1gQzoofhHiuv0aZ",
      "include_colab_link": true
    },
    "kernelspec": {
      "name": "python3",
      "display_name": "Python 3"
    },
    "accelerator": "GPU"
  },
  "cells": [
    {
      "cell_type": "markdown",
      "metadata": {
        "id": "view-in-github",
        "colab_type": "text"
      },
      "source": [
        "<a href=\"https://colab.research.google.com/github/sagihaider/IADS_SC_2022_DeepLearning/blob/main/Exercise-Day2_Covid_Classification.ipynb\" target=\"_parent\"><img src=\"https://colab.research.google.com/assets/colab-badge.svg\" alt=\"Open In Colab\"/></a>"
      ]
    },
    {
      "cell_type": "code",
      "metadata": {
        "colab": {
          "base_uri": "https://localhost:8080/"
        },
        "id": "FluT1M9QvcvV",
        "outputId": "2059f937-b55a-4b96-940f-bb63e873f441"
      },
      "source": [
        "!git clone https://github.com/UCSD-AI4H/COVID-CT.git"
      ],
      "execution_count": null,
      "outputs": [
        {
          "output_type": "stream",
          "name": "stdout",
          "text": [
            "Cloning into 'COVID-CT'...\n",
            "remote: Enumerating objects: 5463, done.\u001b[K\n",
            "remote: Counting objects: 100% (4/4), done.\u001b[K\n",
            "remote: Compressing objects: 100% (4/4), done.\u001b[K\n",
            "remote: Total 5463 (delta 0), reused 1 (delta 0), pack-reused 5459\u001b[K\n",
            "Receiving objects: 100% (5463/5463), 1.09 GiB | 23.91 MiB/s, done.\n",
            "Resolving deltas: 100% (360/360), done.\n",
            "Checking out files: 100% (1048/1048), done.\n"
          ]
        }
      ]
    },
    {
      "cell_type": "code",
      "metadata": {
        "id": "hbh1Nm2mv_cF"
      },
      "source": [
        "## unzip archives  q - quite, n - don't overwrite\n",
        "!unzip -q -n '/content/COVID-CT/Images-processed/CT_COVID.zip'\n",
        "!unzip -q -n '/content/COVID-CT/Images-processed/CT_NonCOVID.zip'"
      ],
      "execution_count": null,
      "outputs": []
    },
    {
      "cell_type": "code",
      "metadata": {
        "colab": {
          "base_uri": "https://localhost:8080/"
        },
        "id": "7gV196flwWAH",
        "outputId": "c1d5b66a-3f10-48c7-dac0-02620a30df81"
      },
      "source": [
        "import os\n",
        "path='/content/CT_COVID/'\n",
        "for count, filename in enumerate(os.listdir(path)): \n",
        "    dst =\"covid-\" + str(count) + \".png\"\n",
        "    src =path+ filename \n",
        "    dst =path+ dst \n",
        "        \n",
        "    # rename() function will \n",
        "    # rename all the files \n",
        "    os.rename(src, dst)\n",
        "print(\"Covid Positive cases: \", count)\n",
        "\n",
        "path='/content/CT_NonCOVID/'\n",
        "for count, filename in enumerate(os.listdir(path)): \n",
        "    dst =\"noncovid-\" + str(count) + \".png\"\n",
        "    src =path+ filename \n",
        "    dst =path+ dst \n",
        "        \n",
        "    # rename() function will \n",
        "    # rename all the files \n",
        "    os.rename(src, dst)\n",
        "\n",
        "print(\"Covid Negative cases: \", count)"
      ],
      "execution_count": null,
      "outputs": [
        {
          "output_type": "stream",
          "name": "stdout",
          "text": [
            "Covid Positive cases:  348\n",
            "Covid Negative cases:  396\n"
          ]
        }
      ]
    },
    {
      "cell_type": "markdown",
      "source": [
        "## Exercise\n",
        "We have downlaoded the COVID Image Data for you. Now, please a train and build a classification model to detect COVID vs Non-Covid cases. "
      ],
      "metadata": {
        "id": "wpGcwbg9T4UO"
      }
    }
  ]
}